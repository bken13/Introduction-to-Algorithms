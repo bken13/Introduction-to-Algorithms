{
 "cells": [
  {
   "cell_type": "code",
   "execution_count": 13,
   "id": "c9cc6f63",
   "metadata": {},
   "outputs": [],
   "source": [
    "original_text = open(\"input.txt\", \"r\")"
   ]
  },
  {
   "cell_type": "code",
   "execution_count": 14,
   "id": "057114bb",
   "metadata": {},
   "outputs": [
    {
     "data": {
      "text/plain": [
       "<_io.TextIOWrapper name='input.txt' mode='r' encoding='cp1252'>"
      ]
     },
     "execution_count": 14,
     "metadata": {},
     "output_type": "execute_result"
    }
   ],
   "source": [
    "original_text"
   ]
  },
  {
   "cell_type": "code",
   "execution_count": 15,
   "id": "1d3e3bce",
   "metadata": {},
   "outputs": [
    {
     "data": {
      "text/plain": [
       "'The Department of Computer Science at Georgetown University is seeking applications for a tenure-track Assistant Professor position in \\n'"
      ]
     },
     "execution_count": 15,
     "metadata": {},
     "output_type": "execute_result"
    }
   ],
   "source": [
    "original_text.readline()"
   ]
  },
  {
   "cell_type": "code",
   "execution_count": 16,
   "id": "df08569a",
   "metadata": {},
   "outputs": [
    {
     "data": {
      "text/plain": [
       "'Computer Science. For the first year of this position, the successful candidate will also hold the title of Provostâ€™s Distinguished Faculty \\n'"
      ]
     },
     "execution_count": 16,
     "metadata": {},
     "output_type": "execute_result"
    }
   ],
   "source": [
    "original_text.readline()"
   ]
  },
  {
   "cell_type": "code",
   "execution_count": 17,
   "id": "45484e31",
   "metadata": {},
   "outputs": [
    {
     "data": {
      "text/plain": [
       "0"
      ]
     },
     "execution_count": 17,
     "metadata": {},
     "output_type": "execute_result"
    }
   ],
   "source": [
    "original_text.seek(0,0)"
   ]
  },
  {
   "cell_type": "code",
   "execution_count": 57,
   "id": "3ff18e4b",
   "metadata": {},
   "outputs": [],
   "source": [
    "# Resource Consulted for help with code: https://towardsdatascience.com/huffman-encoding-python-implementation-8448c3654328"
   ]
  },
  {
   "cell_type": "code",
   "execution_count": 26,
   "id": "5c534ba1",
   "metadata": {},
   "outputs": [],
   "source": [
    "# Node Class:"
   ]
  },
  {
   "cell_type": "code",
   "execution_count": 37,
   "id": "401048a1",
   "metadata": {},
   "outputs": [],
   "source": [
    "class Node:\n",
    "    def __init__(self, prob, symbol, left=None, right=None):\n",
    "        # probability of symbol\n",
    "        self.prob = prob\n",
    "\n",
    "        self.symbol = symbol\n",
    "        self.left = left\n",
    "        self.right = right\n",
    "\n",
    "        # tree direction (0/1)\n",
    "        self.code = ''"
   ]
  },
  {
   "cell_type": "code",
   "execution_count": 38,
   "id": "bd8073ea",
   "metadata": {},
   "outputs": [],
   "source": [
    "# helper functions for calculating probabilities, printing the code, and getting the encoded output"
   ]
  },
  {
   "cell_type": "code",
   "execution_count": 39,
   "id": "c15031e1",
   "metadata": {},
   "outputs": [],
   "source": [
    "codes = dict()\n",
    "\n",
    "def Calculate_Codes(node, val=''):\n",
    "    # huffman code for current node\n",
    "    newVal = val + str(node.code)\n",
    "\n",
    "    if(node.left):\n",
    "        Calculate_Codes(node.left, newVal)\n",
    "    if(node.right):\n",
    "        Calculate_Codes(node.right, newVal)\n",
    "\n",
    "    if(not node.left and not node.right):\n",
    "        codes[node.symbol] = newVal\n",
    "         \n",
    "    return codes        "
   ]
  },
  {
   "cell_type": "code",
   "execution_count": 40,
   "id": "c013c46f",
   "metadata": {},
   "outputs": [],
   "source": [
    "def Calculate_Probability(data):\n",
    "    symbols = dict()\n",
    "    for element in data:\n",
    "        if symbols.get(element) == None:\n",
    "            symbols[element] = 1\n",
    "        else: \n",
    "            symbols[element] += 1     \n",
    "    return symbols"
   ]
  },
  {
   "cell_type": "code",
   "execution_count": 41,
   "id": "019cd0c2",
   "metadata": {},
   "outputs": [],
   "source": [
    "def Output_Encoded(data, coding):\n",
    "    encoding_output = []\n",
    "    for c in data:\n",
    "        encoding_output.append(coding[c])\n",
    "        \n",
    "    string = ''.join([str(item) for item in encoding_output])    \n",
    "    return string"
   ]
  },
  {
   "cell_type": "code",
   "execution_count": 42,
   "id": "4377a67c",
   "metadata": {},
   "outputs": [],
   "source": [
    "def Total_Gain(data, coding):\n",
    "    before_compression = len(data) * 8 # total bit space to stor the data before compression\n",
    "    after_compression = 0\n",
    "    symbols = coding.keys()\n",
    "    for symbol in symbols:\n",
    "        count = data.count(symbol)\n",
    "        after_compression += count * len(coding[symbol]) #calculate how many bit is required for that symbol in total\n",
    "    print(\"Space usage before compression (in bits):\", before_compression)    \n",
    "    print(\"Space usage after compression (in bits):\",  after_compression)         "
   ]
  },
  {
   "cell_type": "code",
   "execution_count": 43,
   "id": "ad6a4c62",
   "metadata": {},
   "outputs": [],
   "source": [
    "def Huffman_Encoding(data):\n",
    "    symbol_with_probs = Calculate_Probability(data)\n",
    "    symbols = symbol_with_probs.keys()\n",
    "    probabilities = symbol_with_probs.values()\n",
    "    print(\"symbols: \", symbols)\n",
    "    print(\"probabilities: \", probabilities)\n",
    "    \n",
    "    nodes = []\n",
    "    \n",
    "    for symbol in symbols:\n",
    "        nodes.append(Node(symbol_with_probs.get(symbol), symbol))\n",
    "    \n",
    "    while len(nodes) > 1:\n",
    "        nodes = sorted(nodes, key=lambda x: x.prob)\n",
    "    \n",
    "        # pick 2 smallest nodes\n",
    "        right = nodes[0]\n",
    "        left = nodes[1]\n",
    "    \n",
    "        left.code = 0\n",
    "        right.code = 1\n",
    "    \n",
    "        newNode = Node(left.prob+right.prob, left.symbol+right.symbol, left, right)\n",
    "    \n",
    "        nodes.remove(left)\n",
    "        nodes.remove(right)\n",
    "        nodes.append(newNode)\n",
    "            \n",
    "    huffman_encoding = Calculate_Codes(nodes[0])\n",
    "    print(\"symbols with codes\", huffman_encoding)\n",
    "    Total_Gain(data, huffman_encoding)\n",
    "    encoded_output = Output_Encoded(data,huffman_encoding)\n",
    "    return encoded_output, nodes[0]  "
   ]
  },
  {
   "cell_type": "code",
   "execution_count": 44,
   "id": "9b731f84",
   "metadata": {},
   "outputs": [],
   "source": [
    "def Huffman_Decoding(encoded_data, huffman_tree):\n",
    "    tree_head = huffman_tree\n",
    "    decoded_output = []\n",
    "    for x in encoded_data:\n",
    "        if x == '1':\n",
    "            huffman_tree = huffman_tree.right   \n",
    "        elif x == '0':\n",
    "            huffman_tree = huffman_tree.left\n",
    "        try:\n",
    "            if huffman_tree.left.symbol == None and huffman_tree.right.symbol == None:\n",
    "                pass\n",
    "        except AttributeError:\n",
    "            decoded_output.append(huffman_tree.symbol)\n",
    "            huffman_tree = tree_head\n",
    "        \n",
    "    string = ''.join([str(item) for item in decoded_output])\n",
    "    return string "
   ]
  },
  {
   "cell_type": "code",
   "execution_count": 47,
   "id": "5f353891",
   "metadata": {},
   "outputs": [
    {
     "data": {
      "text/plain": [
       "0"
      ]
     },
     "execution_count": 47,
     "metadata": {},
     "output_type": "execute_result"
    }
   ],
   "source": [
    "original_text.seek(0,0)"
   ]
  },
  {
   "cell_type": "code",
   "execution_count": 48,
   "id": "f2de77cf",
   "metadata": {},
   "outputs": [],
   "source": [
    "data = original_text.read()"
   ]
  },
  {
   "cell_type": "code",
   "execution_count": 49,
   "id": "2d64df27",
   "metadata": {},
   "outputs": [
    {
     "name": "stdout",
     "output_type": "stream",
     "text": [
      "The Department of Computer Science at Georgetown University is seeking applications for a tenure-track Assistant Professor position in \n",
      "Computer Science. For the first year of this position, the successful candidate will also hold the title of Provostâ€™s Distinguished Faculty \n",
      "Fellow, and will have no teaching and service responsibilities to allow a focus on research while receiving mentorship and support from two \n",
      "senior faculty members. Candidates with a strong record of research in fairness and ethics in computing, computing for social good, machine \n",
      "learning and artificial intelligence, programming languages, computer systems, databases, trustworthy computing, human-computer interaction, \n",
      "or software engineering are encouraged to apply. We are a rapidly growing department in a top-25 university located in the heart of \n",
      "Washington, DC. Our faculty research focuses on data-centered computing, security and privacy, and theory. We are committed to building a \n",
      "diverse intellectual community and strongly encourage applications from those from underrepresented backgrounds.\n"
     ]
    }
   ],
   "source": [
    "print(data)"
   ]
  },
  {
   "cell_type": "code",
   "execution_count": 50,
   "id": "625fbf79",
   "metadata": {},
   "outputs": [
    {
     "name": "stdout",
     "output_type": "stream",
     "text": [
      "symbols:  dict_keys(['T', 'h', 'e', ' ', 'D', 'p', 'a', 'r', 't', 'm', 'n', 'o', 'f', 'C', 'u', 'S', 'c', 'i', 'G', 'g', 'w', 'U', 'v', 's', 'y', 'k', 'l', '-', 'A', 'P', '\\n', '.', 'F', ',', 'd', 'â', '€', '™', 'b', 'W', '2', '5', 'O'])\n",
      "probabilities:  dict_values([1, 24, 96, 148, 3, 27, 68, 68, 76, 25, 70, 70, 20, 4, 31, 2, 44, 74, 1, 27, 11, 1, 8, 58, 15, 3, 33, 4, 1, 2, 7, 6, 3, 13, 29, 1, 1, 1, 5, 3, 1, 1, 1])\n",
      "symbols with codes {'e': '0000', 'c': '00010', 'f': '000110', 'D': '000111000', 'O': '0001110010', '5': '0001110011', 'b': '00011101', '2': '0001111000', '™': '0001111001', '€': '0001111010', 'â': '0001111011', 'A': '0001111100', 'U': '0001111101', 'G': '0001111110', 'T': '0001111111', 't': '0010', 'i': '0011', ' ': '010', 'o': '0110', 'n': '0111', 'r': '1000', 'a': '1001', 'l': '10100', 'P': '101010000', 'S': '101010001', '-': '10101001', 'v': '1010101', 'y': '101011', 'u': '10110', 'd': '10111', 's': '1100', 'C': '11010000', 'W': '11010001', '\\n': '1101001', ',': '110101', 'g': '11011', 'p': '11100', 'm': '11101', 'h': '11110', 'F': '11111000', 'k': '11111001', '.': '1111101', 'w': '111111'}\n",
      "Space usage before compression (in bits): 8696\n",
      "Space usage after compression (in bits): 4804\n"
     ]
    },
    {
     "data": {
      "text/plain": [
       "('0001111111111100000010000111000000011100100110000010111010000011100100100110000110010110100000110111011110010110001000001000010101010001000100011000001110001000000101001001001000011111100000011010001101100000010011011111101110100001111101011100111010101000010001100001100101010110100011110001011000000000011111001001101111101101010011110011100101000011000101001001000110110011111000100001100110100001010010100010000001111011010000000101010010010100010010001011111001010000111110011001100001111000010100101110010010101010000100001100001100000110011000110100001011100011011000011001000110110011101000110111010110100111010000011011101111001011000100000100001010101000100010001100000111000100000111110101011111000011010000100010111100000010000110001110001100001001010101100001001100001001100001100100010111100011110001011100011011000011001000110110011111010101000101111000000101100101100001000010000011001100000110101101010001000010100101111011100111011110010010000001011111100111010010100010100110100110001100101111001101010010111010001011110000001000100011001010100000001001100001100101010100001000011010101010110110000100001111011000111101000011110011100010000111000001111000010001101111101110110001111001111000001011101011111000100100010101101010000101010110101101001111110000000101001010001101111111101010101001011110111010111111001110100101000101111010011010101000001001110110010001000001001000101111000110111110110101001011110111010110000001000101010100110001000000101000000011001110001100111110000110001110100111010000110010001100001100010001001100101001101001010001101111110101001010000110011000010101101100010011001110101000000011000000100110000001011110010111111111100011101000000010100000000001000000011101010100110111110110101110100000111001001101000110011110001111100010100101111011101011001011011100111000110100000100100001101000011011101010001011111101100101101001110000000111001101101000010000110100100010101101010000101010110101110100001110100011101000010001100111110101011010000100101111011100111011110010010000011000101111110011001011110010100101011000010100001100111110110101000000000010011010001011101001100001100101000000011000000100110000001011110010001101110100001101001001110000111000011001100010100101111011101000000010111100011000101100010001101110100001001101110111100101100010001101111101111010101000010011011101111001011000100011011111011010000110011010000101100011000010001110011010001011011011001101011111010101011101100100010111100011011100000101101001101000000100110000111001101111101101010010111101110101001100000100011000110001100010001110011010001000110111001000001010010100001111011000001110001000001101010101110010000110110111000100111101111010011011111011010101001001011111011101101001110110000110011010101000010011011101111001011000100000100001011001010111100001000001110111001101010101011110010010100100011101100111000000110011010101000101000101101100001011111101101000001011110101011010000100110111011110010110001000110111110111101010101111010110111011001011110101001000100110111011110010110001000001000010001101110010000010001001000100010001101100111110101010110100101101000010110001100001100010111111100110000000010000001111101100110111000000001000001101111101101010011000000001000000111000100110101101000100111011000010111010001001100101001111001110010100101011111110101011010001000001010011000000001010010101000100111100001110111101001010110101101110000110111111001101111101101010111000011100100110000010111010000011100100100011011101010010100010011011100101010010001111000000111001101010110011100111010101000010001100001100101010110101010001100001010010010000010111010001101110100010111100000010111100000100110000010010011000011001011010011101000110011100111100011011111011001001100111110101010000111000110100001111101010000111001010110100001000011010010001010110101000010101011010100000001100000010011000000101111001000011001100001010110110000001100010011001110101011110010010100110101001000100000011100100000100000001011101000010011011101111001011000100011011111011110101010110000000001010110100000110010101011010100101111011101011100100000111010101100100010101011110101010100101111011101000101111000000110100010101111111010101101000100000101001100000000100001001101110111101001100100010000010111010001001100100001110110110001110100101110011011111011010100101011010011011100111010101000010001100000001000110111001000001010010100000000010001010110100110100010000100110111011110110110011100110010101011010100101111011101011000010100001100111110111010010101101000000111000100110101101000100111011000001010011110011100101000011000101001001000110110011111000100001101000011011101010001011110011011000000010000110100001101110101010110011110111000010001000000011100100000001100000001110010000010111010000111011001000101111100111011100001101011001111011111001111101',\n",
       " <__main__.Node at 0x24a99bb6880>)"
      ]
     },
     "execution_count": 50,
     "metadata": {},
     "output_type": "execute_result"
    }
   ],
   "source": [
    "Huffman_Encoding(data)"
   ]
  },
  {
   "cell_type": "code",
   "execution_count": 53,
   "id": "13322da9",
   "metadata": {},
   "outputs": [
    {
     "data": {
      "text/plain": [
       "0"
      ]
     },
     "execution_count": 53,
     "metadata": {},
     "output_type": "execute_result"
    }
   ],
   "source": [
    "original_text.seek(0,0)"
   ]
  },
  {
   "cell_type": "code",
   "execution_count": 54,
   "id": "1253dd9a",
   "metadata": {},
   "outputs": [
    {
     "name": "stdout",
     "output_type": "stream",
     "text": [
      "symbols:  dict_keys(['T', 'h', 'e', ' ', 'D', 'p', 'a', 'r', 't', 'm', 'n', 'o', 'f', 'C', 'u', 'S', 'c', 'i', 'G', 'g', 'w', 'U', 'v', 's', 'y', 'k', 'l', '-', 'A', 'P', '\\n', '.', 'F', ',', 'd', 'â', '€', '™', 'b', 'W', '2', '5', 'O'])\n",
      "probabilities:  dict_values([1, 24, 96, 148, 3, 27, 68, 68, 76, 25, 70, 70, 20, 4, 31, 2, 44, 74, 1, 27, 11, 1, 8, 58, 15, 3, 33, 4, 1, 2, 7, 6, 3, 13, 29, 1, 1, 1, 5, 3, 1, 1, 1])\n",
      "symbols with codes {'e': '0000', 'c': '00010', 'f': '000110', 'D': '000111000', 'O': '0001110010', '5': '0001110011', 'b': '00011101', '2': '0001111000', '™': '0001111001', '€': '0001111010', 'â': '0001111011', 'A': '0001111100', 'U': '0001111101', 'G': '0001111110', 'T': '0001111111', 't': '0010', 'i': '0011', ' ': '010', 'o': '0110', 'n': '0111', 'r': '1000', 'a': '1001', 'l': '10100', 'P': '101010000', 'S': '101010001', '-': '10101001', 'v': '1010101', 'y': '101011', 'u': '10110', 'd': '10111', 's': '1100', 'C': '11010000', 'W': '11010001', '\\n': '1101001', ',': '110101', 'g': '11011', 'p': '11100', 'm': '11101', 'h': '11110', 'F': '11111000', 'k': '11111001', '.': '1111101', 'w': '111111'}\n",
      "Space usage before compression (in bits): 8696\n",
      "Space usage after compression (in bits): 4804\n"
     ]
    }
   ],
   "source": [
    "encoding, tree = Huffman_Encoding(data)"
   ]
  },
  {
   "cell_type": "code",
   "execution_count": 56,
   "id": "a3c8446a",
   "metadata": {},
   "outputs": [
    {
     "name": "stdout",
     "output_type": "stream",
     "text": [
      "Decoded Output: The Department of Computer Science at Georgetown University is seeking applications for a tenure-track Assistant Professor position in \n",
      "Computer Science. For the first year of this position, the successful candidate will also hold the title of Provostâ€™s Distinguished Faculty \n",
      "Fellow, and will have no teaching and service responsibilities to allow a focus on research while receiving mentorship and support from two \n",
      "senior faculty members. Candidates with a strong record of research in fairness and ethics in computing, computing for social good, machine \n",
      "learning and artificial intelligence, programming languages, computer systems, databases, trustworthy computing, human-computer interaction, \n",
      "or software engineering are encouraged to apply. We are a rapidly growing department in a top-25 university located in the heart of \n",
      "Washington, DC. Our faculty research focuses on data-centered computing, security and privacy, and theory. We are committed to building a \n",
      "diverse intellectual community and strongly encourage applications from those from underrepresented backgrounds.\n"
     ]
    }
   ],
   "source": [
    "print(\"Decoded Output:\", Huffman_Decoding(encoding, tree))"
   ]
  },
  {
   "cell_type": "code",
   "execution_count": null,
   "id": "2c587574",
   "metadata": {},
   "outputs": [],
   "source": []
  }
 ],
 "metadata": {
  "kernelspec": {
   "display_name": "Python 3",
   "language": "python",
   "name": "python3"
  },
  "language_info": {
   "codemirror_mode": {
    "name": "ipython",
    "version": 3
   },
   "file_extension": ".py",
   "mimetype": "text/x-python",
   "name": "python",
   "nbconvert_exporter": "python",
   "pygments_lexer": "ipython3",
   "version": "3.8.8"
  }
 },
 "nbformat": 4,
 "nbformat_minor": 5
}
